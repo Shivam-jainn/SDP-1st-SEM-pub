{
 "cells": [
  {
   "cell_type": "code",
   "execution_count": 1,
   "metadata": {},
   "outputs": [
    {
     "name": "stdout",
     "output_type": "stream",
     "text": [
      "hello duniya\n"
     ]
    }
   ],
   "source": [
    "print(\"hello duniya\")"
   ]
  },
  {
   "cell_type": "code",
   "execution_count": 2,
   "metadata": {},
   "outputs": [],
   "source": [
    "\n",
    "x = \"this is a string\"\n",
    "y = 23494\n",
    "z = 23.5\n",
    "h = 34.566\n"
   ]
  },
  {
   "cell_type": "code",
   "execution_count": 6,
   "metadata": {},
   "outputs": [
    {
     "name": "stdout",
     "output_type": "stream",
     "text": [
      "23517.5 23528.566 552109.0 812093.604\n"
     ]
    }
   ],
   "source": [
    "# type conversion\n",
    "a = y + z\n",
    "b = y + h\n",
    "c = y*z\n",
    "d = y*h\n",
    "print(a,b,c,d)\n",
    "\n",
    "#\n"
   ]
  },
  {
   "cell_type": "code",
   "execution_count": 4,
   "metadata": {},
   "outputs": [
    {
     "name": "stdout",
     "output_type": "stream",
     "text": [
      "string are divided into array blocks and the char can be accesed using indexing\n",
      "h\n",
      "his is a string\n",
      "is is a string\n",
      "hi\n"
     ]
    }
   ],
   "source": [
    "\n",
    "# string \n",
    "print (\"string are divided into array blocks and the char can be accesed using indexing\")\n",
    "print(x[1])\n",
    "print(x[1:])\n",
    "print(x[2:])\n",
    "print(x[1:3])\n"
   ]
  },
  {
   "cell_type": "code",
   "execution_count": 5,
   "metadata": {},
   "outputs": [
    {
     "name": "stdout",
     "output_type": "stream",
     "text": [
      "g\n",
      "\n",
      "ng\n"
     ]
    }
   ],
   "source": [
    "\n",
    "\n",
    "# negative indexing\n",
    "print(x[-1:])\n",
    "print(x[-1:-3])\n",
    "print (x[-2:])"
   ]
  },
  {
   "cell_type": "code",
   "execution_count": 8,
   "metadata": {},
   "outputs": [
    {
     "name": "stdout",
     "output_type": "stream",
     "text": [
      "1\n",
      "2\n",
      "3\n",
      "4\n",
      "5\n",
      "6\n",
      "7\n",
      "8\n",
      "9\n",
      "10\n"
     ]
    }
   ],
   "source": [
    "for i in range(1,11):\n",
    "    print(i)"
   ]
  },
  {
   "cell_type": "code",
   "execution_count": 13,
   "metadata": {},
   "outputs": [
    {
     "name": "stdout",
     "output_type": "stream",
     "text": [
      "1\n",
      "2\n",
      "3\n",
      "4\n",
      "5\n",
      "6\n",
      "7\n",
      "8\n",
      "9\n",
      "10\n"
     ]
    }
   ],
   "source": [
    "a = 1\n",
    "while a!=11:\n",
    "    print(a)\n",
    "    a+=1"
   ]
  }
 ],
 "metadata": {
  "interpreter": {
   "hash": "7679b3f13171ca1df491d4b5b53694221155d4305fc1b0a8de727533012e72db"
  },
  "kernelspec": {
   "display_name": "Python 3.10.1 64-bit",
   "language": "python",
   "name": "python3"
  },
  "language_info": {
   "codemirror_mode": {
    "name": "ipython",
    "version": 3
   },
   "file_extension": ".py",
   "mimetype": "text/x-python",
   "name": "python",
   "nbconvert_exporter": "python",
   "pygments_lexer": "ipython3",
   "version": "3.10.1"
  },
  "orig_nbformat": 4
 },
 "nbformat": 4,
 "nbformat_minor": 2
}
